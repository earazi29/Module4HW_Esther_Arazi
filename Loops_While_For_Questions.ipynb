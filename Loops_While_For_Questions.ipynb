{
  "cells": [
    {
      "cell_type": "markdown",
      "id": "7d25b115",
      "metadata": {
        "id": "7d25b115"
      },
      "source": [
        "\n",
        "# While & For Mastery — Syntax, Patterns, and Programs\n",
        "\n",
        "**Name:** _Esther Arazi_  \n",
        "**Course:** _Programming I_  \n",
        "**Date:** _10/19/25_\n",
        "\n",
        "**Learning goals**\n",
        "- Reintroduce the **syntax** and core **patterns** for `while` and `for` loops.\n",
        "- Use loops with **decision structures** (`if/elif/else`) and **`try/except`** for input validation.\n",
        "- Write non-trivial programs that require **reasoning**, not just template filling.\n",
        "- Practice **PEP 8** style: naming, whitespace, docstrings, and helpful comments. - SO PLEASE DO PEP 8 ASSIGNMENT FIRST\n",
        "\n",
        "\n",
        "**IDE usage**\n",
        "- Feel free to work within an IDE (PyCharm or IDLE) if you feel more comfortable, copying and pasting the answers here"
      ]
    },
    {
      "cell_type": "markdown",
      "source": [],
      "metadata": {
        "id": "co4zaM_oHdBi"
      },
      "id": "co4zaM_oHdBi"
    },
    {
      "cell_type": "markdown",
      "id": "02124153",
      "metadata": {
        "id": "02124153"
      },
      "source": [
        "\n",
        "## Part 0 — Quick Reference (Read & Run)\n",
        "\n",
        "### `for` loop (iterate over a sequence)\n",
        "```python\n",
        "for item in iterable:\n",
        "    # do something with item\n",
        "```\n",
        "\n",
        "### `while` loop (repeat until a condition changes)\n",
        "```python\n",
        "while condition:\n",
        "    # body\n",
        "```\n",
        "\n",
        "### Useful keywords\n",
        "- `break` — exit the nearest loop immediately  \n",
        "- `continue` — skip to next iteration  \n",
        "- `else` on loops — runs if the loop **didn't** `break`\n"
      ]
    },
    {
      "cell_type": "markdown",
      "id": "884708c5",
      "metadata": {
        "id": "884708c5"
      },
      "source": [
        "\n",
        "## Demo 1 — `for` Loop Fundamentals\n",
        "- Iterating lists/strings\n",
        "- Using `range(start, stop, step)`\n",
        "- Tracking indices with `enumerate`\n"
      ]
    },
    {
      "cell_type": "code",
      "execution_count": 21,
      "id": "a9210b06",
      "metadata": {
        "id": "a9210b06",
        "colab": {
          "base_uri": "https://localhost:8080/"
        },
        "outputId": "76268209-f155-42d7-e11f-62af68f06a00"
      },
      "outputs": [
        {
          "output_type": "stream",
          "name": "stdout",
          "text": [
            "KOL\n",
            "NIDRE\n",
            "TEFILAH\n",
            "---\n",
            "2 4 6 8 10 \n",
            "---\n",
            "0: kol\n",
            "1: nidre\n",
            "2: tefilah\n"
          ]
        }
      ],
      "source": [
        "\n",
        "words = [\"kol\", \"nidre\", \"tefilah\"]\n",
        "\n",
        "# Basic iteration\n",
        "for w in words:\n",
        "    print(w.upper())\n",
        "\n",
        "print(\"---\")\n",
        "\n",
        "# Ranges\n",
        "for k in range(2, 11, 2):\n",
        "    print(k, end=\" \")\n",
        "print(\"\\n---\")\n",
        "\n",
        "# Enumerate for index + value\n",
        "for i, w in enumerate(words):\n",
        "    print(f\"{i}: {w}\")\n"
      ]
    },
    {
      "cell_type": "markdown",
      "id": "872c060a",
      "metadata": {
        "id": "872c060a"
      },
      "source": [
        "\n",
        "## Demo 2 — `while` Loop Fundamentals\n",
        "- Sentinel loops (stop when user types `done`)\n",
        "- Guarded updates to prevent infinite loops\n"
      ]
    },
    {
      "cell_type": "code",
      "execution_count": 22,
      "id": "a16ab540",
      "metadata": {
        "id": "a16ab540",
        "colab": {
          "base_uri": "https://localhost:8080/"
        },
        "outputId": "6cade8cb-9b2a-496e-e2f9-7cdbd1f9572e"
      },
      "outputs": [
        {
          "output_type": "stream",
          "name": "stdout",
          "text": [
            "Enter a number (or 'done'): 1\n",
            "Enter a number (or 'done'): 3\n",
            "Enter a number (or 'done'): 3\n",
            "Enter a number (or 'done'): 5\n",
            "Enter a number (or 'done'): 6\n",
            "Enter a number (or 'done'): 5\n",
            "Enter a number (or 'done'): 3\n",
            "Enter a number (or 'done'): 2\n",
            "Enter a number (or 'done'): 6\n",
            "Enter a number (or 'done'): done\n",
            "Average: 3.7777777777777777\n"
          ]
        }
      ],
      "source": [
        "\n",
        "# Sentinel-controlled input loop\n",
        "# Type numbers; type 'done' to stop. We sum only valid numbers.\n",
        "total = 0.0\n",
        "count = 0\n",
        "\n",
        "while True:\n",
        "    raw = input(\"Enter a number (or 'done'): \").strip().lower()\n",
        "    if raw == \"done\":\n",
        "        break\n",
        "    try:\n",
        "        num = float(raw)\n",
        "    except ValueError:\n",
        "        print(\"Not a number — try again.\")\n",
        "        continue\n",
        "    total += num\n",
        "    count += 1\n",
        "\n",
        "if count > 0:\n",
        "    print(\"Average:\", total / count)\n",
        "else:\n",
        "    print(\"No numbers entered.\")\n"
      ]
    },
    {
      "cell_type": "markdown",
      "id": "4f729477",
      "metadata": {
        "id": "4f729477"
      },
      "source": [
        "\n",
        "## Demo 3 — Try/Except + Decisions in Loops\n",
        "- Validate input in a loop\n",
        "- Use `if/elif/else` for branching behavior\n"
      ]
    },
    {
      "cell_type": "code",
      "execution_count": null,
      "id": "ef5f1557",
      "metadata": {
        "id": "ef5f1557"
      },
      "outputs": [],
      "source": [
        "\n",
        "# Ask for an integer 1..10 with limited attempts.\n",
        "MAX_ATTEMPTS = 3\n",
        "attempts = 0\n",
        "value = None\n",
        "\n",
        "while attempts < MAX_ATTEMPTS:\n",
        "    try:\n",
        "        guess = int(input(\"Pick an integer from 1 to 10: \"))\n",
        "    except ValueError:\n",
        "        print(\"Please enter an integer.\")\n",
        "        attempts += 1\n",
        "        continue\n",
        "\n",
        "    if 1 <= guess <= 10:\n",
        "        value = guess\n",
        "        print(\"Thanks! You chose:\", value)\n",
        "        break\n",
        "    else:\n",
        "        print(\"Out of range.\")\n",
        "        attempts += 1\n",
        "\n",
        "if value is None:\n",
        "    print(\"No valid choice made. Exiting.\")\n"
      ]
    },
    {
      "cell_type": "markdown",
      "id": "4a3c313f",
      "metadata": {
        "id": "4a3c313f"
      },
      "source": [
        "\n",
        "## Patterns & Pitfalls\n",
        "- Prefer `for` for known collections/ranges; `while` for open-ended/state-driven loops.\n",
        "- Always **advance the loop state** in a `while` (avoid infinite loops).\n",
        "- Use **sentinels** like `'done'` to end user input.\n",
        "- Extract **helpers** with docstrings for single-purpose blocks.\n",
        "- Keep lines ≤ 79–99 characters and space around operators appropriately.\n"
      ]
    },
    {
      "cell_type": "markdown",
      "id": "05823ceb",
      "metadata": {
        "id": "05823ceb"
      },
      "source": [
        "\n",
        "## Program 1 — Running Statistics (Sentinel + Validation)\n",
        "\n",
        "**Write:** `stats_loop()` that repeatedly reads numbers from the user until they type `'done'`.  \n",
        "- Use `try/except` to validate input. Ignore invalid entries (warn and continue).  \n",
        "- Track **count, min, max, sum, average**.  \n",
        "- At the end, print a one-line summary like:  \n",
        "  `count=5 min=2.0 max=14.5 sum=33.0 avg=6.6`\n",
        "\n",
        "**Requirements:**\n",
        "- Use a **while loop** with a sentinel.\n",
        "- Use at least one **decision structure** (`if/elif/else`).\n",
        "- Follow **PEP 8** for naming, spacing, and comments.\n"
      ]
    },
    {
      "cell_type": "code",
      "execution_count": 2,
      "id": "bc2b0125",
      "metadata": {
        "id": "bc2b0125",
        "colab": {
          "base_uri": "https://localhost:8080/"
        },
        "outputId": "a0594408-5b9c-433b-9db9-61665ee1943d"
      },
      "outputs": [
        {
          "output_type": "stream",
          "name": "stdout",
          "text": [
            "Enter a number (or 'done' to finish): 5\n",
            "Enter a number (or 'done' to finish): 55\n",
            "Enter a number (or 'done' to finish): 123\n",
            "Enter a number (or 'done' to finish): 1\n",
            "Enter a number (or 'done' to finish): 2\n",
            "Enter a number (or 'done' to finish): 4\n",
            "Enter a number (or 'done' to finish): 5\n",
            "Enter a number (or 'done' to finish): 8\n",
            "Enter a number (or 'done' to finish): 99\n",
            "Enter a number (or 'done' to finish): done\n",
            "count=9 min=1.0 max=123.0 sum=302.0 avg=33.6\n"
          ]
        }
      ],
      "source": [
        "def stats_loop():\n",
        "    \"\"\"Repeatedly read numbers until 'done' is entered.\n",
        "    Track count, min, max, sum, and average, then print a summary.\"\"\"\n",
        "\n",
        "    count = 0\n",
        "    total = 0.0\n",
        "    minimum = None\n",
        "    maximum = None\n",
        "\n",
        "    while True:\n",
        "        # Prompt the user for input\n",
        "        user_input = input(\"Enter a number (or 'done' to finish): \").strip().lower()\n",
        "\n",
        "        # Check sentinel value\n",
        "        if user_input == 'done':\n",
        "            break\n",
        "\n",
        "        # Attempt to convert input to a number\n",
        "        try:\n",
        "            number = float(user_input)\n",
        "        except ValueError:\n",
        "            print(\"Invalid entry. Please enter a valid number or 'done'.\")\n",
        "            continue\n",
        "\n",
        "        # Update stats\n",
        "        count += 1\n",
        "        total += number\n",
        "\n",
        "        if minimum is None or number < minimum:\n",
        "            minimum = number\n",
        "        if maximum is None or number > maximum:\n",
        "            maximum = number\n",
        "\n",
        "    # Avoid division by zero if no valid numbers entered\n",
        "    if count > 0:\n",
        "        average = total / count\n",
        "        print(f\"count={count} min={minimum} max={maximum} sum={total} avg={average:.1f}\")\n",
        "    else:\n",
        "        print(\"No valid numbers were entered.\")\n",
        "\n",
        "# Run the function\n",
        "stats_loop()\n"
      ]
    },
    {
      "cell_type": "markdown",
      "id": "cc1cb2cf",
      "metadata": {
        "id": "cc1cb2cf"
      },
      "source": [
        "\n",
        "## Program 2 — Password Attempts (Decisions + While)\n",
        "\n",
        "**Write:** `login_sim(correct_password: str, max_attempts: int = 3)`  \n",
        "- Prompt until the user enters the correct password or attempts are exhausted.  \n",
        "- Enforce a **policy**: at least 8 chars, contains a digit and a letter.  \n",
        "- Provide **specific feedback** for failures using `if/elif/else`.  \n",
        "- Use `try/except` only if you choose to add extra parsing; the main need here is decisions + while.\n",
        "\n",
        "**Tip:** Put the policy check in a **helper function** with a docstring.\n"
      ]
    },
    {
      "cell_type": "code",
      "execution_count": 3,
      "id": "cf5e5e3d",
      "metadata": {
        "id": "cf5e5e3d",
        "colab": {
          "base_uri": "https://localhost:8080/"
        },
        "outputId": "275e31ba-fce8-4937-8ffb-783b488e8ea0"
      },
      "outputs": [
        {
          "output_type": "stream",
          "name": "stdout",
          "text": [
            "Enter your password: py12\n",
            "Password must be at least 8 characters long.\n",
            "Attempts left: 2\n",
            "\n",
            "Enter your password: ththth\n",
            "Password must be at least 8 characters long.\n",
            "Attempts left: 1\n",
            "\n",
            "Enter your password: python12\n",
            "Access granted.\n"
          ]
        }
      ],
      "source": [
        "def login_sim(correct_password: str, max_attempts: int = 3):\n",
        "    \"\"\"Prompt until user enters correct password or uses all attempts.\n",
        "    Enforces password rules: at least 8 chars, a letter, and a number.\n",
        "    \"\"\"\n",
        "\n",
        "    attempts = 0\n",
        "\n",
        "    while attempts < max_attempts:\n",
        "        password = input(\"Enter your password: \").strip()\n",
        "        attempts += 1\n",
        "\n",
        "        # Check password policy\n",
        "        if len(password) < 8:\n",
        "            print(\"Password must be at least 8 characters long.\")\n",
        "        elif not any(c.isalpha() for c in password):\n",
        "            print(\"Password must contain at least one letter.\")\n",
        "        elif not any(c.isdigit() for c in password):\n",
        "            print(\"Password must contain at least one number.\")\n",
        "        elif password == correct_password:\n",
        "            print(\"Access granted.\")\n",
        "            return\n",
        "        else:\n",
        "            print(\"Incorrect password.\")\n",
        "\n",
        "        # Show attempts left\n",
        "        if attempts < max_attempts:\n",
        "            print(f\"Attempts left: {max_attempts - attempts}\\n\")\n",
        "        else:\n",
        "            print(\"Too many failed attempts. Access denied.\")\n",
        "\n",
        "\n",
        "# Run the program\n",
        "login_sim(\"python12\")\n"
      ]
    },
    {
      "cell_type": "markdown",
      "id": "9efbc851",
      "metadata": {
        "id": "9efbc851"
      },
      "source": [
        "\n",
        "## Program 3 — Collatz Analyzer (While + Decisions)\n",
        "\n",
        "**Write:** `collatz_steps(n: int) -> int` that returns the number of steps to reach 1 using the Collatz rules:  \n",
        "- If `n` is even, `n = n // 2`  \n",
        "- Else `n = 3*n + 1`\n",
        "\n",
        "**Then write:** `collatz_report(start: int, stop: int)` that prints the number between `start` and `stop` (inclusive) with the **maximum** steps and the step count.\n",
        "\n",
        "** Note there are two aspects of this question which are tricky.\n",
        "- [ ] the for loop in `collatz_report` is written `for num in (start, stop)`\n",
        "- [ ] you are calling `collatz_steps` from within `collatz_report` and it is this loop that keeps track of where the ** maximum ** steps and step count are found. So `collatz_steps` is **not** called from the main program\n",
        "\n",
        "**Requirements:**\n",
        "- Input validation with `try/except` in a wrapper `main()` that reads `start` and `stop` from the user.\n",
        "- Use a **for** loop in `collatz_report`; use a **while** loop in `collatz_steps`.\n",
        "- Use decisions appropriately.\n"
      ]
    },
    {
      "cell_type": "code",
      "execution_count": 4,
      "id": "6e7a622e",
      "metadata": {
        "id": "6e7a622e",
        "colab": {
          "base_uri": "https://localhost:8080/"
        },
        "outputId": "53f7b194-ad82-4bdc-d51a-bb9ba914f7d4"
      },
      "outputs": [
        {
          "output_type": "stream",
          "name": "stdout",
          "text": [
            "Enter the start number: 100\n",
            "Enter the stop number: 550\n",
            "The number 327 has the maximum steps: 143\n"
          ]
        }
      ],
      "source": [
        "def collatz_steps(n: int) -> int:\n",
        "    \"\"\"Return the number of steps to reach 1 using Collatz rules.\"\"\"\n",
        "    steps = 0\n",
        "    while n != 1:\n",
        "        if n % 2 == 0:\n",
        "            n = n // 2\n",
        "        else:\n",
        "            n = 3 * n + 1\n",
        "        steps += 1\n",
        "    return steps\n",
        "\n",
        "\n",
        "def collatz_report(start: int, stop: int):\n",
        "    \"\"\"Find and print the number with the most Collatz steps.\"\"\"\n",
        "    max_steps = 0\n",
        "    max_num = start\n",
        "\n",
        "    for num in range(start, stop + 1):\n",
        "        steps = collatz_steps(num)\n",
        "        if steps > max_steps:\n",
        "            max_steps = steps\n",
        "            max_num = num\n",
        "\n",
        "    print(f\"The number {max_num} has the maximum steps: {max_steps}\")\n",
        "\n",
        "\n",
        "def main():\n",
        "    \"\"\"Get user input and call collatz_report.\"\"\"\n",
        "    try:\n",
        "        start = int(input(\"Enter the start number: \"))\n",
        "        stop = int(input(\"Enter the stop number: \"))\n",
        "\n",
        "        if start <= 0 or stop <= 0:\n",
        "            print(\"Numbers must be positive.\")\n",
        "        elif start > stop:\n",
        "            print(\"Start must be less than or equal to stop.\")\n",
        "        else:\n",
        "            collatz_report(start, stop)\n",
        "\n",
        "    except ValueError:\n",
        "        print(\"Invalid input. Please enter whole numbers only.\")\n",
        "\n",
        "\n",
        "# Run the program\n",
        "if __name__ == \"__main__\":\n",
        "    main()\n"
      ]
    },
    {
      "cell_type": "markdown",
      "id": "c2ec00e1",
      "metadata": {
        "id": "c2ec00e1"
      },
      "source": [
        "\n",
        "## Program 4 — Grid Count (Nested Loops + Decisions)\n",
        "\n",
        "** this exercise we will skip as it is a nested loop structure, we will learn this next class - so you receive free points here."
      ]
    },
    {
      "cell_type": "code",
      "execution_count": null,
      "id": "daf5f519",
      "metadata": {
        "id": "daf5f519"
      },
      "outputs": [],
      "source": [
        "# your code here"
      ]
    },
    {
      "cell_type": "markdown",
      "id": "ecba85ff",
      "metadata": {
        "id": "ecba85ff"
      },
      "source": [
        "\n",
        "## Program 5 — Receipt Parser (While + Try/Except + Decisions)\n",
        "\n",
        "**Write:** `receipt_total()` that repeatedly reads lines like `item,quantity,price` until the user types `'done'`.  \n",
        "- Validate that `quantity` is an integer and `price` is a float.  \n",
        "- Accumulate a subtotal and print a formatted receipt at the end.  \n",
        "- Ignore malformed lines (warn and continue).\n",
        "\n",
        "**Example input:**\n",
        "```\n",
        "apple,2,1.25\n",
        "banana,3,0.60\n",
        "done\n",
        "```\n",
        "**Output end line:**\n",
        "```\n",
        "Items: 2  Units: 5  Subtotal: $3.65\n",
        "```\n"
      ]
    },
    {
      "cell_type": "code",
      "execution_count": null,
      "id": "a2880a4b",
      "metadata": {
        "id": "a2880a4b"
      },
      "outputs": [],
      "source": [
        "def receipt_total():\n",
        "    \"\"\"Read item,quantity,price until 'done' is entered.\n",
        "    Validate input and print the total number of items, units, and subtotal.\n",
        "    \"\"\"\n",
        "    items = 0\n",
        "    units = 0\n",
        "    subtotal = 0.0\n",
        "\n",
        "    print(\"Enter items like: item,quantity,price\")\n",
        "    print(\"Type 'done' when finished.\\n\")\n",
        "\n",
        "    while True:\n",
        "        line = input(\"Enter an item: \").strip().lower()\n",
        "\n",
        "        if line == \"done\":\n",
        "            break\n",
        "\n",
        "        parts = line.split(\",\")\n",
        "\n",
        "        if len(parts) != 3:\n",
        "            print(\"Invalid format. Use item,quantity,price.\\n\")\n",
        "            continue\n",
        "\n",
        "        try:\n",
        "            qty = int(parts[1])\n",
        "            price = float(parts[2])\n",
        "        except ValueError:\n",
        "            print(\"Quantity must be an integer and price a number.\\n\")\n",
        "            continue\n",
        "\n",
        "        items += 1\n",
        "        units += qty\n",
        "        subtotal += qty * price\n",
        "\n",
        "    print(f\"\\nItems: {items}  Units: {units}  Subtotal: ${subtotal:.2f}\")\n",
        "\n",
        "\n",
        "# Run the program\n",
        "receipt_total()\n"
      ]
    },
    {
      "cell_type": "markdown",
      "id": "96844e4c",
      "metadata": {
        "id": "96844e4c"
      },
      "source": [
        "\n",
        "## Optional Challenge — Prime Gaps (For + Decisions)\n",
        "\n",
        "Write `is_prime(n: int) -> bool` and then `max_gap(a: int, b: int) -> tuple[int,int,int]` that returns `(p, q, gap)` where `p` and `q` are consecutive primes in `[a, b]` with the **largest** gap.\n",
        "\n",
        "- Use **for** loops and decisions; keep it simple and readable.\n"
      ]
    },
    {
      "cell_type": "markdown",
      "id": "4eddd5e9",
      "metadata": {
        "id": "4eddd5e9"
      },
      "source": [
        "\n",
        "## Submission Checklist\n",
        "- [ ] I used `while` and/or `for` appropriately for each task.\n",
        "- [ ] I validated user input with `try/except` where required.\n",
        "- [ ] I used clear names, docstrings, and helpful comments.\n",
        "- [ ] I kept lines ≤ 79–99 chars and used proper whitespace.\n",
        "- [ ] ***  I have removed the reference to asserts as we have not learned this yet\n"
      ]
    },
    {
      "cell_type": "markdown",
      "id": "96a91da6",
      "metadata": {
        "id": "96a91da6"
      },
      "source": [
        "\n",
        "## Grading Rubric (25 pts)\n",
        "\n",
        "| Criterion | Points |\n",
        "|---|---:|\n",
        "| Program 1 — Stats loop (correctness + validation + clarity) | 6 |\n",
        "| Program 2 — Password attempts (logic + decisions + clarity) | 5 |\n",
        "| Program 3 — Collatz analyzer (while + for + validation) | 6 |\n",
        "| Program 5 — Grid count (nested loops + tests) | 5 |\n",
        "| Overall PEP 8 style & explanations | 3 |\n"
      ]
    }
  ],
  "metadata": {
    "colab": {
      "provenance": []
    },
    "language_info": {
      "name": "python"
    },
    "kernelspec": {
      "name": "python3",
      "display_name": "Python 3"
    }
  },
  "nbformat": 4,
  "nbformat_minor": 5
}